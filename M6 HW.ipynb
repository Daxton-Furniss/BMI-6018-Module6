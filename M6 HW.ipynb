{
 "cells": [
  {
   "cell_type": "code",
   "execution_count": 265,
   "id": "3d4b47e6",
   "metadata": {},
   "outputs": [
    {
     "name": "stdout",
     "output_type": "stream",
     "text": [
      "Here is the error; Should not iterate many times over\n",
      "Here is the error; Should not iterate many times over\n",
      "Here is the error; Should not iterate many times over\n",
      "Here is the error; Should not iterate many times over\n",
      "Here is the error; Should not iterate many times over\n",
      "Here is the error; Should not iterate many times over\n",
      "Here is the error; Should not iterate many times over\n",
      "Here is the error; Should not iterate many times over\n",
      "Here is the error; Should not iterate many times over\n"
     ]
    },
    {
     "data": {
      "text/plain": [
       "[6, 9, 12]"
      ]
     },
     "execution_count": 265,
     "metadata": {},
     "output_type": "execute_result"
    }
   ],
   "source": [
    "#Original Incorrect Function; 1.a\n",
    "def wrong_add_function(arg1,arg2): \n",
    "    arg1_index=0\n",
    "    while arg1_index < len(arg1):\n",
    "        arg_2_sum = 0\n",
    "        for arg2_elements in arg2:\n",
    "            arg_2_sum = sum([arg1[arg1_index]+i for i in arg2])\n",
    "            print(f\"Here is the error; Should not iterate many times over\")\n",
    "        arg1[arg1_index]=arg_2_sum  \n",
    "        arg1_index+=1\n",
    "    return arg1\n",
    "arg1 = [1,2,3]\n",
    "arg2 = [1,1,1]\n",
    "wrong_add_function(arg1, arg2)"
   ]
  },
  {
   "cell_type": "code",
   "execution_count": 263,
   "id": "5101a62d",
   "metadata": {},
   "outputs": [
    {
     "data": {
      "text/plain": [
       "[2, 3, 4]"
      ]
     },
     "execution_count": 263,
     "metadata": {},
     "output_type": "execute_result"
    }
   ],
   "source": [
    "#Corrected Function; 1.b\n",
    "def correct_add_function(arg1,arg2): \n",
    "    arg1_index=0\n",
    "    while arg1_index < len(arg1):\n",
    "        arg_2_sum = 0\n",
    "        for i in arg2:\n",
    "            arg_2_sum = arg1[arg1_index]+ arg2[i]\n",
    "        arg1[arg1_index]=arg_2_sum  \n",
    "        arg1_index+=1\n",
    "    return arg1\n",
    "arg1 = [1,2,3]\n",
    "arg2 = [1,1,1]\n",
    "correct_add_function(arg1, arg2)"
   ]
  },
  {
   "cell_type": "code",
   "execution_count": 287,
   "id": "d74c4bbe",
   "metadata": {},
   "outputs": [],
   "source": [
    "#Question 2, Modified; 2.a\n",
    "def wrong_add_function(arg1,arg2):\n",
    "   #numeric section\n",
    "   if sum([type(i)==int for i in arg1])==len(arg1) and \\\n",
    "      sum([type(i)==int for i in arg2])==len(arg2):\n",
    "         arg1_index=0\n",
    "         while arg1_index < len(arg1):\n",
    "            arg_2_sum = 0\n",
    "            for i in arg2:\n",
    "               arg_2_sum = arg1[arg1_index]+ arg2[i]\n",
    "            arg1[arg1_index]=arg_2_sum  \n",
    "            arg1_index+=1\n",
    "         return arg1\n",
    "   #string section\n",
    "   elif sum([type(i)==str for i in arg1])==len(arg1) and \\\n",
    "      sum([type(i)==str for i in arg2])==len(arg2):\n",
    "         arg1_index=0\n",
    "         while arg1_index < len(arg1):\n",
    "            arg_2_sum = ''\n",
    "            for arg2_elements in arg2:\n",
    "               arg_2_sum += arg2_elements\n",
    "            arg1[arg1_index]=arg1[arg1_index]+str(arg_2_sum)\n",
    "            arg1_index+=1\n",
    "         return arg1\n",
    "arg_str_1=['1','2','3']\n",
    "arg_str_2=['1','1', 1]\n",
    "\n",
    "wrong_add_function(arg_str_1,arg_str_2)"
   ]
  },
  {
   "cell_type": "code",
   "execution_count": 477,
   "id": "c9dada47",
   "metadata": {},
   "outputs": [
    {
     "name": "stdout",
     "output_type": "stream",
     "text": [
      "Error: Your input argument is not of the expected type. Please change this and rerun\n"
     ]
    }
   ],
   "source": [
    "#Question 2.b\n",
    "def wrong_add_function(arg1, arg2):\n",
    "   #numeric section\n",
    "   if sum([type(i)==int for i in arg1])==len(arg1) and \\\n",
    "      sum([type(i)==int for i in arg2])==len(arg2):\n",
    "         arg1_index=0\n",
    "         while arg1_index < len(arg1):\n",
    "            arg_2_sum = 0\n",
    "            for i in arg2:\n",
    "               arg_2_sum = arg1[arg1_index]+ arg2[i]\n",
    "            arg1[arg1_index]=arg_2_sum  \n",
    "            arg1_index+=1\n",
    "         return arg1\n",
    "   #string section\n",
    "   elif sum([type(i)==str for i in arg1])==len(arg1) and \\\n",
    "      sum([type(i)==str for i in arg2])==len(arg2):\n",
    "         arg1_index=0\n",
    "         while arg1_index < len(arg1):\n",
    "            arg_2_sum = ''\n",
    "            for arg2_elements in arg2:\n",
    "               arg_2_sum += arg2_elements\n",
    "            arg1[arg1_index]=arg1[arg1_index]+str(arg_2_sum)\n",
    "            arg1_index+=1\n",
    "         return arg1\n",
    "   else:\n",
    "    raise TypeError(\"Your input argument is not of the expected type. Please change this and rerun\") \n",
    "    \n",
    "arg_str_1 = ['1', '2', '3']\n",
    "arg_str_2 = ['1', '1', 1]  \n",
    "\n",
    "def exception_add_function(arg1, arg2):\n",
    "    try:\n",
    "        result = wrong_add_function(arg1, arg2)\n",
    "        return result\n",
    "    except Exception as e:\n",
    "        return f\"Error: {str(e)}\"\n",
    "\n",
    "result = exception_add_function(arg_str_1, arg_str_2)\n",
    "print(result)"
   ]
  },
  {
   "cell_type": "code",
   "execution_count": 476,
   "id": "853e5bf9",
   "metadata": {},
   "outputs": [],
   "source": [
    "#Question 2.c\n",
    "def wrong_add_function(arg1,arg2):\n",
    "   #numeric section\n",
    "   if sum([type(i)==int for i in arg1])==len(arg1) and \\\n",
    "      sum([type(i)==int for i in arg2])==len(arg2):\n",
    "         arg1_index=0\n",
    "         while arg1_index < len(arg1):\n",
    "            arg_2_sum = 0\n",
    "            for i in arg2:\n",
    "               arg_2_sum = arg1[arg1_index]+ arg2[i]\n",
    "            arg1[arg1_index]=arg_2_sum  \n",
    "            arg1_index+=1\n",
    "         return arg1\n",
    "   #string section\n",
    "   elif sum([type(i)==str for i in arg1])==len(arg1) and \\\n",
    "      sum([type(i)==str for i in arg2])==len(arg2):\n",
    "         arg1_index=0\n",
    "         while arg1_index < len(arg1):\n",
    "            arg_2_sum = ''\n",
    "            for arg2_elements in arg2:\n",
    "               arg_2_sum += arg2_elements\n",
    "            arg1[arg1_index]=arg1[arg1_index]+str(arg_2_sum)\n",
    "            arg1_index+=1\n",
    "         return arg1\n",
    "arg_str_1=['1','2','3']\n",
    "arg_str_2=['1','1', 1]\n",
    "\n",
    "wrong_add_function(arg_str_1,arg_str_2)\n",
    "\n",
    "def correction_add_function(arg1, arg2):\n",
    "    try:\n",
    "        result = wrong_add_function(arg1, arg2)\n",
    "    except TypeError:\n",
    "        arg2 = [str(i) for i in arg2]\n",
    "        try:\n",
    "            result = wrong_add_function(arg1, arg2)\n",
    "        except Exception:\n",
    "            result = print(\"Error\")\n",
    "    return result\n",
    "\n",
    "arg_str_1 = ['1', '2', '3']\n",
    "arg_str_2 = ['1', '1', 1]\n",
    "\n",
    "correction_add_function(arg_str_1, arg_str_2)"
   ]
  }
 ],
 "metadata": {
  "kernelspec": {
   "display_name": "Python 3 (ipykernel)",
   "language": "python",
   "name": "python3"
  },
  "language_info": {
   "codemirror_mode": {
    "name": "ipython",
    "version": 3
   },
   "file_extension": ".py",
   "mimetype": "text/x-python",
   "name": "python",
   "nbconvert_exporter": "python",
   "pygments_lexer": "ipython3",
   "version": "3.11.3"
  }
 },
 "nbformat": 4,
 "nbformat_minor": 5
}
